{
 "cells": [
  {
   "cell_type": "code",
   "execution_count": 25,
   "id": "f898733a",
   "metadata": {},
   "outputs": [],
   "source": [
    "import nltk\n",
    "import numpy as np\n",
    "import statistics\n",
    "from sklearn.decomposition import PCA\n",
    "from collections import Counter\n",
    "import pandas as pd\n",
    "import openai\n",
    "import os"
   ]
  },
  {
   "cell_type": "code",
   "execution_count": 26,
   "id": "4a3098b1",
   "metadata": {},
   "outputs": [],
   "source": [
    "with open('../key.txt') as f:\n",
    "    lines = f.readlines()\n",
    "\n",
    "  "
   ]
  },
  {
   "cell_type": "code",
   "execution_count": 27,
   "id": "722d0f7f",
   "metadata": {},
   "outputs": [],
   "source": [
    "dataset = [\n",
    "    \"The quick brown fox jumps over the lazy dog\",\n",
    "    \"Machine learning is an exciting field\",\n",
    "    \"Predictive text models enhance user experience\",\n",
    "    # Add more sentences as needed\n",
    "]"
   ]
  },
  {
   "cell_type": "code",
   "execution_count": 28,
   "id": "42041cf6",
   "metadata": {},
   "outputs": [],
   "source": [
    "from nltk import ngrams\n",
    "from collections import defaultdict\n",
    "import random\n",
    "\n",
    "# Preprocess the dataset\n",
    "corpus = ' '.join(dataset).lower().split()\n",
    "\n",
    "# Create N-gram model\n",
    "def build_ngram_model(corpus, n=2):\n",
    "    ngram_model = defaultdict(list)\n",
    "    ngrams_list = list(ngrams(corpus, n))\n",
    "\n",
    "    for ngram in ngrams_list:\n",
    "        prefix = ' '.join(ngram[:-1])\n",
    "        suffix = ngram[-1]\n",
    "        ngram_model[prefix].append(suffix)\n",
    "\n",
    "    return ngram_model\n",
    "\n",
    "# Train the N-gram model\n",
    "ngram_model = build_ngram_model(corpus, n=2)\n"
   ]
  },
  {
   "cell_type": "code",
   "execution_count": 29,
   "id": "1781c1e7",
   "metadata": {},
   "outputs": [],
   "source": [
    "def get_predictive_text_suggestions(word):\n",
    "    if word in predictive_text_model:\n",
    "        suggestions = predictive_text_model[word]\n",
    "        return random.choice(suggestions)\n",
    "    else:\n",
    "        return ''\n"
   ]
  },
  {
   "cell_type": "code",
   "execution_count": 36,
   "id": "0d5ee5ba",
   "metadata": {},
   "outputs": [
    {
     "name": "stdout",
     "output_type": "stream",
     "text": [
      "Suggestion for 'The quick brown fox': jumped over the lazy dog.\n"
     ]
    }
   ],
   "source": [
    "from openai import OpenAI\n",
    "# Set your OpenAI API key\n",
    "api_key = ''\n",
    "client = OpenAI(api_key=api_key)\n",
    "# Function to generate predictive text suggestions\n",
    "def get_predictive_text_suggestions(prefix):\n",
    "    if prefix in ngram_model:\n",
    "        suggestions = ngram_model[prefix]\n",
    "        return random.choice(suggestions)\n",
    "    else:\n",
    "        return ''\n",
    "\n",
    "# Function to integrate predictive text and ChatGPT\n",
    "def complete_text(prompt):\n",
    "    # Use predictive text model to suggest next word(s)\n",
    "    predictive_suggestion = get_predictive_text_suggestions(prompt.lower())\n",
    "\n",
    "    # Combine with ChatGPT response\n",
    "    full_prompt = f\"{prompt} {predictive_suggestion}\"\n",
    "    response = client.completions.create(\n",
    "        model=\"text-davinci-003\",\n",
    "        prompt=full_prompt,\n",
    "        max_tokens=100\n",
    "    )\n",
    "\n",
    "    return response.choices[0].text.strip()\n",
    "\n",
    "# Example usage\n",
    "#user_input = \"The quick brown fox\"\n",
    "#completed_text = complete_text(\"The quick brown fox\")\n",
    "#print(completed_text)\n",
    "\n",
    "user_input = input(\"Enter a word: \")\n",
    "suggestion = complete_text(user_input)\n",
    "print(f\"Suggestion for '{user_input}': {suggestion}\")\n"
   ]
  },
  {
   "cell_type": "code",
   "execution_count": null,
   "id": "03babc92",
   "metadata": {},
   "outputs": [],
   "source": []
  }
 ],
 "metadata": {
  "kernelspec": {
   "display_name": "Python 3 (ipykernel)",
   "language": "python",
   "name": "python3"
  },
  "language_info": {
   "codemirror_mode": {
    "name": "ipython",
    "version": 3
   },
   "file_extension": ".py",
   "mimetype": "text/x-python",
   "name": "python",
   "nbconvert_exporter": "python",
   "pygments_lexer": "ipython3",
   "version": "3.11.5"
  }
 },
 "nbformat": 4,
 "nbformat_minor": 5
}
